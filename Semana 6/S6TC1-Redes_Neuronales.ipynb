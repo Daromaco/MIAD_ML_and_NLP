{
 "cells": [
  {
   "cell_type": "markdown",
   "metadata": {},
   "source": [
    "![image info](https://raw.githubusercontent.com/albahnsen/MIAD_ML_and_NLP/main/images/banner_1.png)"
   ]
  },
  {
   "cell_type": "markdown",
   "metadata": {},
   "source": [
    "# Taller: Redes Neuronales\n",
    "\n",
    "En este taller podrán poner en práctica sus conocimientos sobre la construcción e implementación de redes neuronales de una capa y multicapa. El taller está constituido por 4 puntos, en los cuales deberan seguir las intrucciones de cada numeral para su desarrollo."
   ]
  },
  {
   "cell_type": "markdown",
   "metadata": {},
   "source": [
    "## Datos predicción probabilidad de admisión a la universidad\n",
    "\n",
    "En este taller se usará el conjunto de datos de admisiones a una universidad proveniente de la base de datos de Kaggle. Cada observación contiene la probabilidad de que un estudiante sea admitido por la universidad, dadas distintas variables predictoras como el puntaje del examén TOEFL y GRE, el promedio (GPA), entre otras. El objetivo es predecir la probabilidad de admissión de cada estudiante. Para más detalles pueden visitar el siguiente enlace: [datos](https://www.kaggle.com/mohansacharya/graduate-admissions)."
   ]
  },
  {
   "cell_type": "code",
   "execution_count": 1,
   "metadata": {},
   "outputs": [],
   "source": [
    "import warnings\n",
    "warnings.filterwarnings('ignore')"
   ]
  },
  {
   "cell_type": "code",
   "execution_count": 2,
   "metadata": {},
   "outputs": [],
   "source": [
    "# Importación librerías\n",
    "import numpy as np\n",
    "import keras \n",
    "import pandas as pd\n",
    "import matplotlib.pyplot as plt\n",
    "%matplotlib inline\n",
    "\n",
    "from sklearn.model_selection import train_test_split\n",
    "from keras import initializers\n",
    "from keras import optimizers\n",
    "from keras.models import Sequential\n",
    "from keras.layers import Dense\n",
    "from keras.layers import Dropout\n",
    "\n",
    "# Importación librerías adicionales a las planteadas en el laboratorio\n",
    "from keras.layers import Activation\n",
    "from livelossplot import PlotLossesKeras\n",
    "from keras import backend as K\n",
    "from sklearn.metrics import mean_squared_error\n",
    "from sklearn.metrics import mean_absolute_error\n",
    "from sklearn.model_selection import GridSearchCV\n",
    "from keras.wrappers.scikit_learn import KerasRegressor\n"
   ]
  },
  {
   "cell_type": "code",
   "execution_count": 3,
   "metadata": {},
   "outputs": [
    {
     "data": {
      "text/html": [
       "<div>\n",
       "<style scoped>\n",
       "    .dataframe tbody tr th:only-of-type {\n",
       "        vertical-align: middle;\n",
       "    }\n",
       "\n",
       "    .dataframe tbody tr th {\n",
       "        vertical-align: top;\n",
       "    }\n",
       "\n",
       "    .dataframe thead th {\n",
       "        text-align: right;\n",
       "    }\n",
       "</style>\n",
       "<table border=\"1\" class=\"dataframe\">\n",
       "  <thead>\n",
       "    <tr style=\"text-align: right;\">\n",
       "      <th></th>\n",
       "      <th>GRE Score</th>\n",
       "      <th>TOEFL Score</th>\n",
       "      <th>University Rating</th>\n",
       "      <th>SOP</th>\n",
       "      <th>LOR</th>\n",
       "      <th>CGPA</th>\n",
       "      <th>Research</th>\n",
       "      <th>Chance of Admit</th>\n",
       "    </tr>\n",
       "    <tr>\n",
       "      <th>Serial No.</th>\n",
       "      <th></th>\n",
       "      <th></th>\n",
       "      <th></th>\n",
       "      <th></th>\n",
       "      <th></th>\n",
       "      <th></th>\n",
       "      <th></th>\n",
       "      <th></th>\n",
       "    </tr>\n",
       "  </thead>\n",
       "  <tbody>\n",
       "    <tr>\n",
       "      <th>1</th>\n",
       "      <td>337</td>\n",
       "      <td>118</td>\n",
       "      <td>4</td>\n",
       "      <td>4.5</td>\n",
       "      <td>4.5</td>\n",
       "      <td>9.65</td>\n",
       "      <td>1</td>\n",
       "      <td>0.92</td>\n",
       "    </tr>\n",
       "    <tr>\n",
       "      <th>2</th>\n",
       "      <td>324</td>\n",
       "      <td>107</td>\n",
       "      <td>4</td>\n",
       "      <td>4.0</td>\n",
       "      <td>4.5</td>\n",
       "      <td>8.87</td>\n",
       "      <td>1</td>\n",
       "      <td>0.76</td>\n",
       "    </tr>\n",
       "    <tr>\n",
       "      <th>3</th>\n",
       "      <td>316</td>\n",
       "      <td>104</td>\n",
       "      <td>3</td>\n",
       "      <td>3.0</td>\n",
       "      <td>3.5</td>\n",
       "      <td>8.00</td>\n",
       "      <td>1</td>\n",
       "      <td>0.72</td>\n",
       "    </tr>\n",
       "    <tr>\n",
       "      <th>4</th>\n",
       "      <td>322</td>\n",
       "      <td>110</td>\n",
       "      <td>3</td>\n",
       "      <td>3.5</td>\n",
       "      <td>2.5</td>\n",
       "      <td>8.67</td>\n",
       "      <td>1</td>\n",
       "      <td>0.80</td>\n",
       "    </tr>\n",
       "    <tr>\n",
       "      <th>5</th>\n",
       "      <td>314</td>\n",
       "      <td>103</td>\n",
       "      <td>2</td>\n",
       "      <td>2.0</td>\n",
       "      <td>3.0</td>\n",
       "      <td>8.21</td>\n",
       "      <td>0</td>\n",
       "      <td>0.65</td>\n",
       "    </tr>\n",
       "  </tbody>\n",
       "</table>\n",
       "</div>"
      ],
      "text/plain": [
       "            GRE Score  TOEFL Score  University Rating  SOP  LOR   CGPA  \\\n",
       "Serial No.                                                               \n",
       "1                 337          118                  4  4.5   4.5  9.65   \n",
       "2                 324          107                  4  4.0   4.5  8.87   \n",
       "3                 316          104                  3  3.0   3.5  8.00   \n",
       "4                 322          110                  3  3.5   2.5  8.67   \n",
       "5                 314          103                  2  2.0   3.0  8.21   \n",
       "\n",
       "            Research  Chance of Admit   \n",
       "Serial No.                              \n",
       "1                  1              0.92  \n",
       "2                  1              0.76  \n",
       "3                  1              0.72  \n",
       "4                  1              0.80  \n",
       "5                  0              0.65  "
      ]
     },
     "execution_count": 3,
     "metadata": {},
     "output_type": "execute_result"
    }
   ],
   "source": [
    "# Carga de datos de archivo .csv\n",
    "data = pd.read_csv('https://raw.githubusercontent.com/albahnsen/MIAD_ML_and_NLP/main/datasets/universityGraduateAdmissions.csv', index_col=0)\n",
    "data.head()"
   ]
  },
  {
   "cell_type": "code",
   "execution_count": 4,
   "metadata": {},
   "outputs": [
    {
     "data": {
      "image/png": "[encoded data removed]",
      "text/plain": [
       "<Figure size 1080x1080 with 9 Axes>"
      ]
     },
     "metadata": {
      "needs_background": "light"
     },
     "output_type": "display_data"
    }
   ],
   "source": [
    "# Hitogramas de las varaibles del dataset\n",
    "data.hist(bins=25, figsize=(15,15))\n",
    "plt.show()"
   ]
  },
  {
   "cell_type": "code",
   "execution_count": 5,
   "metadata": {},
   "outputs": [],
   "source": [
    "# Definición de variables predictoras (X)\n",
    "X = data.drop(data.columns[-1], axis=1)\n",
    "# Definición de variable de interés (y)\n",
    "Y = data[data.columns[-1]]"
   ]
  },
  {
   "cell_type": "code",
   "execution_count": 6,
   "metadata": {},
   "outputs": [],
   "source": [
    "# Separación de variables predictoras (X) y variable de interés (y) en set de entrenamiento y test usandola función train_test_split\n",
    "xTrain, xTest, yTrain, yTest = train_test_split(X,Y,test_size=0.3, random_state=22)"
   ]
  },
  {
   "cell_type": "markdown",
   "metadata": {},
   "source": [
    "## Punto 1 - Red Neuronal de una capa\n",
    "\n",
    "En la celda 1 creen una **red neuronal de una capa** con la librería Keras, que prediga la probabilidad de admisión de los estudiantes, usando los sets de entrenamiento y test definidos anteriormente. Pueden usar la función de perdida, el optimizador y el número de épocas que consideren pertinentes para el modelo, justificando su selección. Finalmente, grafiquen la pérdida del modelo vs el número de épocas en el set de entrenamiento y validación, y presenten el desempeño del modelo con las métricas error absoluto medio (MAE) y error cuadrático medio (MSE)."
   ]
  },
  {
   "cell_type": "code",
   "execution_count": 8,
   "metadata": {},
   "outputs": [
    {
     "data": {
      "image/png": "[encoded data removed]",
      "text/plain": [
       "<Figure size 864x576 with 2 Axes>"
      ]
     },
     "metadata": {
      "needs_background": "light"
     },
     "output_type": "display_data"
    },
    {
     "name": "stdout",
     "output_type": "stream",
     "text": [
      "Loss\n",
      "\ttraining         \t (min:    0.004, max:    0.923, cur:    0.004)\n",
      "\tvalidation       \t (min:    0.003, max:    0.453, cur:    0.003)\n",
      "35/35 [==============================] - 1s 21ms/step - loss: 0.0038 - val_loss: 0.0032\n",
      "El MAE de la Red con 1 Capa es de : 0.04093355598449707\n",
      "El MSE de la Red con 1 Capa es de : 0.003177876080044353\n"
     ]
    }
   ],
   "source": [
    "# Celda 1\n",
    "\n",
    "# Normalización de variables predictoras (X) con la función StandardScaler\n",
    "from sklearn.preprocessing import StandardScaler\n",
    "\n",
    "# Definición de la función StandardScaler\n",
    "scaler = StandardScaler()\n",
    "scaler.fit(X)\n",
    "\n",
    "# Transformación de los set de entrenamiento y test\n",
    "xTrain_transformed = scaler.transform(xTrain)\n",
    "xTest_transformed = scaler.transform(xTest)\n",
    "\n",
    "K.clear_session()\n",
    "\n",
    "def crear_modelo_unacapa(optimizer='sgd'):\n",
    "    # Definición red neuronal con la función Sequential()\n",
    "    model = Sequential()\n",
    "    # Definición de la capa densa con un tamaño de salida igual a output_var y un input_shape de dims\n",
    "    model.add(Dense(1, input_shape=(xTrain_transformed.shape[1],)))\n",
    "    # Impresión de la arquitectura de la red neuronal\n",
    "    print(model.summary())\n",
    "    # Definición de función de perdida. Se usa mean_squared_error dado que es un ejercicio de regresión\n",
    "    model.compile(optimizer=optimizer, loss='mean_squared_error')\n",
    "    return model\n",
    "\n",
    "# Modelo de regresion usando Wrapper\n",
    "model = KerasRegressor(build_fn=crear_modelo_unacapa, verbose=0)\n",
    "\"\"\"\n",
    "# Definición red neuronal con la función Sequential()\n",
    "model = Sequential()\n",
    "# Definición de la capa densa con un tamaño de salida igual a output_var y un input_shape de dims\n",
    "model.add(Dense(1, input_shape=(xTrain_transformed.shape[1],)))\n",
    "\n",
    "# Impresión de la arquitectura de la red neuronal\n",
    "print(model.summary())\n",
    "\n",
    "# Definición de función de perdida. Se usa mean_squared_error dado que es un ejercicio de regresión\n",
    "model.compile(optimizer='sgd', loss='mean_squared_error')\n",
    "\n",
    "\n",
    "# Entrenamiento de la red neuronal con 50 épocas\n",
    "model.fit(xTrain_transformed, yTrain, \n",
    "          verbose=1, \n",
    "          epochs=50, \n",
    "          validation_data=(xTest_transformed, yTest),\n",
    "          callbacks=[PlotLossesKeras()])\n",
    "\n",
    "\"\"\"\n",
    "\n",
    "# define the grid search parameters\n",
    "batch_size = [10, 50, 100]\n",
    "epochs = [10, 30, 50, 100]\n",
    "optimizer = ['sgd','adam']\n",
    "param_grid = dict(batch_size=batch_size, epochs=epochs, optimizer = optimizers)\n",
    "grid = GridSearchCV(estimator=model, param_grid=param_grid, n_jobs=-1, cv=5)\n",
    "\n",
    "model_one_layer = grid.fit(xTrain_transformed,\n",
    "                       yTrain,\n",
    "                       verbose=1, \n",
    "                       validation_data=(xTest_transformed, yTest),\n",
    "                       callbacks=[PlotLossesKeras()])\n",
    "\n",
    "# Evaluacion de desempeño\n",
    "y_pred_onelayer = model_one_layer.predict(xTest_transformed)\n",
    "mae_onelayer = mean_absolute_error(yTest, y_pred_onelayer)\n",
    "mse_onelayer = mean_squared_error(yTest, y_pred_onelayer)\n",
    "\n",
    "print('El MAE de la Red con 1 Capa es de :',mae_onelayer)\n",
    "print('El MSE de la Red con 1 Capa es de :',mse_onelayer)"
   ]
  },
  {
   "cell_type": "code",
   "execution_count": 9,
   "metadata": {},
   "outputs": [
    {
     "data": {
      "text/plain": [
       "{'batch_size': 10, 'epochs': 100, 'optimizer': 'sgd'}"
      ]
     },
     "execution_count": 9,
     "metadata": {},
     "output_type": "execute_result"
    }
   ],
   "source": [
    "model_one_layer.best_params_"
   ]
  },
  {
   "cell_type": "markdown",
   "metadata": {},
   "source": [
    "### Procedimiento y Conclusiones\n",
    "\n",
    "Se crea una red neuronal haciendo uso de la librería Keras de una sola capa. El procedimiento inicia con el escalado y preparación de los datos tanto en los conjuntos de entrenamiento y validación. Después de esto se procede a crear una función que construye la red neuronal y esta se calibra haciendo uso de los Wrappers de Keras y la función GridSearchCV del paquete scikit-learn y se establece un criterio de 5-fold cross validation para los pliegues dentro del conjunto de prueba.\n",
    "\n",
    "* **Funcion de pérdida**: como función de pérdida se hace uso del MSE dado que el problema es de regresión y esta métrica es la más ampliamente utilizada para evaluar en este tipo de casos.\n",
    "* **Optimizador**: el optimizador empleado es el algoritmo de 'stochastic gradient descent' cuyo propósito es establecer los pesos óptimos que minimizen la función de costo.\n",
    "* **Numero de épocas**: el número de épocas elegido en este caso es de 100, este parámetro de las cuatro posibilidades establecidas fue aquel que generó un mejor resultado. Como es posible ver en la gráfica no hay una mejora significativa en el valor del 'loss' a partir de las 20 épocas, por lo tanto también podría sugerirse establecer un número menor para mejorar el desemepeño computacional."
   ]
  },
  {
   "cell_type": "markdown",
   "metadata": {},
   "source": [
    "## Punto 2 - Red Neuronal multicapa\n",
    "\n",
    "En la celda 2 creen una **red neuronal con dos capas** con la librería Keras, que prediga la probabilidad de admisión de los estudiantes usando los sets de entrenamiento y test definidos anteriormente. Pueden usar la función de perdida, el optimizador, el número de épocas y el número de neuronas que consideren pertinentes para el modelo, justificando su selección. Finalmente, grafiquen la pérdida del modelo vs el número de épocas en el set de entrenamiento y validación, y presenten el desempeño del modelo con las métricas error absoluto medio (MAE) y error cuadrático medio (MSE)."
   ]
  },
  {
   "cell_type": "code",
   "execution_count": 10,
   "metadata": {},
   "outputs": [
    {
     "data": {
      "image/png": "[encoded data removed]",
      "text/plain": [
       "<Figure size 864x576 with 2 Axes>"
      ]
     },
     "metadata": {
      "needs_background": "light"
     },
     "output_type": "display_data"
    },
    {
     "name": "stdout",
     "output_type": "stream",
     "text": [
      "Loss\n",
      "\ttraining         \t (min:    0.003, max:    0.089, cur:    0.003)\n",
      "\tvalidation       \t (min:    0.004, max:    0.051, cur:    0.004)\n",
      "35/35 [==============================] - 1s 24ms/step - loss: 0.0028 - val_loss: 0.0043\n",
      "El MAE de la Red con 2 Capas es de : 0.04980849839051565\n",
      "El MSE de la Red con 2 Capas es de : 0.004292708223969108\n"
     ]
    }
   ],
   "source": [
    "# Celda 2\n",
    "\n",
    "K.clear_session()\n",
    "\n",
    "def crear_modelo_doscapas(optimizer='sgd', neuronas = 1):\n",
    "    # Definición red neuronal con la función Sequential()\n",
    "    model1 = Sequential()\n",
    "    # Definición de la capa densa con un tamaño de salida igual a output_var y un input_shape de dims\n",
    "    model1.add(Dense(neuronas, input_shape=(xTrain_transformed.shape[1],), activation = 'relu'))\n",
    "    model1.add(Dense(1))\n",
    "    # Impresión de la arquitectura de la red neuronal\n",
    "    print(model1.summary())\n",
    "    # Definición de función de perdida. Se usa mean_squared_error dado que es un ejercicio de regresión\n",
    "    model1.compile(optimizer=optimizer, loss='mean_squared_error')\n",
    "    return model1\n",
    "\n",
    "# Modelo de regresion usando Wrapper\n",
    "model1 = KerasRegressor(build_fn=crear_modelo_doscapas, verbose=0)\n",
    "\n",
    "\"\"\"\n",
    "# Modelo de regresion usando Wrapper\n",
    "model = KerasRegressor(build_fn=crear_modelo_doscapas, verbose=0)\n",
    "\n",
    "# Definición red neuronal con la función Sequential()\n",
    "model1 = Sequential()\n",
    "\n",
    "# Definición de la capa densa con un tamaño de salida igual a output_var y un input_shape de dims\n",
    "model1.add(Dense(256, input_shape=(xTrain_transformed.shape[1],), activation = 'relu'))\n",
    "model1.add(Dense(1))\n",
    "\n",
    "# Impresión de la arquitectura de la red neuronal\n",
    "print(model1.summary())\n",
    "\n",
    "# Definición de función de perdida. Se usa mean_squared_error dado que es un ejercicio de regresión\n",
    "model1.compile(optimizer='sgd', loss='mean_squared_error')\n",
    "\n",
    "# Entrenamiento de la red neuronal con 50 épocas\n",
    "model1.fit(xTrain_transformed, yTrain, \n",
    "          verbose=1, \n",
    "          epochs=50, \n",
    "          validation_data=(xTest_transformed, yTest),\n",
    "          callbacks=[PlotLossesKeras()])\n",
    "\n",
    "\"\"\"\n",
    "\n",
    "# define the grid search parameters\n",
    "batch_size = [10, 50]\n",
    "epochs = [30, 50, 100]\n",
    "neuronas = [1, 64, 128, 256]\n",
    "optimizer = ['sgd','adam']\n",
    "param_grid = dict(batch_size=batch_size, epochs=epochs, neuronas = neuronas, optimizer = optimizer)\n",
    "grid = GridSearchCV(estimator=model1, param_grid=param_grid, n_jobs=-1, cv=5)\n",
    "\n",
    "model_two_layer = grid.fit(xTrain_transformed,\n",
    "                       yTrain,\n",
    "                       verbose=1, \n",
    "                       validation_data=(xTest_transformed, yTest),\n",
    "                       callbacks=[PlotLossesKeras()])\n",
    "\n",
    "# Evaluacion de desempeño\n",
    "y_pred_twolayer = model_two_layer.predict(xTest_transformed)\n",
    "mae_twolayer = mean_absolute_error(yTest, y_pred_twolayer)\n",
    "mse_twolayer = mean_squared_error(yTest, y_pred_twolayer)\n",
    "\n",
    "print('El MAE de la Red con 2 Capas es de :',mae_twolayer)\n",
    "print('El MSE de la Red con 2 Capas es de :',mse_twolayer)"
   ]
  },
  {
   "cell_type": "code",
   "execution_count": 11,
   "metadata": {},
   "outputs": [
    {
     "data": {
      "text/plain": [
       "{'batch_size': 10, 'epochs': 100, 'neuronas': 256, 'optimizer': 'sgd'}"
      ]
     },
     "execution_count": 11,
     "metadata": {},
     "output_type": "execute_result"
    }
   ],
   "source": [
    "model_two_layer.best_params_"
   ]
  },
  {
   "cell_type": "markdown",
   "metadata": {},
   "source": [
    "### Procedimiento y Conclusiones\n",
    "\n",
    "Se crea una red neuronal haciendo uso de la librería Keras de dos capas. Después de esto se procede a crear una función que construye la red neuronal (crear_modelo_doscapas) y esta se calibra del mismo modo que la de una sola capa en el enunciado anterior, haciendo uso de los Wrappers de Keras y la función GridSearchCV del paquete scikit-learn y se establece un criterio de 5-fold cross validation para los pliegues dentro del conjunto de prueba, por efectos de disponibilidad de recurso computacional.\n",
    "\n",
    "* **Funcion de pérdida**: como función de pérdida se hace uso del MSE dado que el problema es de regresión manteniendo el mismo esquema utilizado en caso anterior.\n",
    "* **Optimizador**: se empleó el algoritmo adam, el cual tiene también como base el sgd con una configuración adaptativa que debería ser computacionalmente más eficiente, sin embargo pero para el caso descrito el mejor resultado se obtiene al utilizar el 'stochastic gradient descent'.\n",
    "* **Numero de épocas**: el número de épocas elegido en este caso es de 100, de igual manera que en el caso anterior lo más adecuado sería evaluar una estrategia con menor número de épocas ya que estas no presentan variaciones importantes a partir de la 10 iteración.\n",
    "* **Numero de neuronas**: el número de neuronas se calibró en un valor de 256 dado que así se obtiene un mejor desemepño en la función de costo del conjunto de entrenamiento. Es de notar que se utilizaron valores de números en base 4 desde 32, porque según algunos autores se beneficia del uso de 'slots' o espacios de memoria binaria como en las tarjetas de los computadores.\n",
    "\n",
    "*Nota*: a raiz de la estrategia utilizada el tiempo de ejecución de estas líneas de código es de alrededor de 20 minutos, "
   ]
  },
  {
   "cell_type": "markdown",
   "metadata": {},
   "source": [
    "## Punto 3  - Red Neuronal multicapa\n",
    "\n",
    "En la celda 3 creen **una red neuronal con más de una capa con la librería Keras, usando early stopping y dropout,** que prediga la probabilidad de admisión de los estudiantes con los sets de entrenamiento y test definidos anteriormente. Pueden usar la función de perdida, el optimizador, el número de épocas y el número de neuronas que consideren pertinentes para el modelo, justificando su selección. Finalmente, grafiquen la pérdida del modelo vs el número de épocas en el set de entrenamiento y validación, y presenten el desempeño del modelo con las métricas error absoluto medio (MAE) y error cuadrático medio (MSE)."
   ]
  },
  {
   "cell_type": "code",
   "execution_count": 13,
   "metadata": {},
   "outputs": [
    {
     "data": {
      "image/png": "[encoded data removed]",
      "text/plain": [
       "<Figure size 864x576 with 2 Axes>"
      ]
     },
     "metadata": {
      "needs_background": "light"
     },
     "output_type": "display_data"
    },
    {
     "name": "stdout",
     "output_type": "stream",
     "text": [
      "Loss\n",
      "\ttraining         \t (min:    0.016, max:    0.159, cur:    0.016)\n",
      "\tvalidation       \t (min:    0.006, max:    0.042, cur:    0.006)\n",
      "11/11 [==============================] - 1s 48ms/step - loss: 0.0162 - val_loss: 0.0065\n",
      "Epoch 00010: early stopping\n",
      "El MAE de la Red con 3 Capas, EarlyStop y Dropout es de : 0.0645477091550827\n",
      "El MSE de la Red con 3 Capas, EarlyStop y Dropout es de : 0.006458242505058796\n"
     ]
    }
   ],
   "source": [
    "# Celda 3\n",
    "# Importación librerías\n",
    "from keras.layers import Dropout\n",
    "from keras.callbacks import EarlyStopping, ModelCheckpoint\n",
    "\n",
    "K.clear_session()\n",
    "\n",
    "def crear_modelo_multicapa(optimizer='sgd', dropout = 0.2, neuronas = 256):\n",
    "    # Definición red neuronal con la función Sequential()\n",
    "    model2 = Sequential()\n",
    "    # Definición de las capas\n",
    "    model2.add(Dense(neuronas, input_shape=(xTrain_transformed.shape[1],), activation = 'relu'))\n",
    "    model2.add(Dropout(dropout))\n",
    "    model2.add(Dense(neuronas,activation='relu'))\n",
    "    model2.add(Dropout(dropout))\n",
    "    model2.add(Dense(1))\n",
    "    # Definición de función de perdida. Se usa mean_squared_error dado que es un ejercicio de regresión\n",
    "    model2.compile(optimizer=optimizer, loss='mean_squared_error')\n",
    "    return model2\n",
    "\n",
    "# Modelo de regresion usando Wrapper\n",
    "model2 = KerasRegressor(build_fn=crear_modelo_multicapa, verbose=0)\n",
    "\n",
    "\"\"\"\n",
    "# Definición red neuronal con la función Sequential()\n",
    "model2 = Sequential()\n",
    "# Definición de las capas\n",
    "model2.add(Dense(256, input_shape=(xTrain_transformed.shape[1],), activation = 'relu'))\n",
    "model2.add(Dropout(0.2))\n",
    "model2.add(Dense(256,activation='relu'))\n",
    "model2.add(Dropout(0.2))\n",
    "model2.add(Dense(1))\n",
    "# Definición de función de perdida. Se usa mean_squared_error dado que es un ejercicio de regresión\n",
    "model2.compile(optimizer='sgd', loss='mean_squared_error')\n",
    "\n",
    "# Impresión de la arquitectura de la red neuronal\n",
    "print(model2.summary())\n",
    "\n",
    "\n",
    "model2.fit(xTrain_transformed, yTrain, \n",
    "          verbose=True, \n",
    "          epochs=50, \n",
    "          batch_size=10,\n",
    "          validation_data=(xTest_transformed, yTest),\n",
    "          callbacks=[best_model, early_stop,PlotLossesKeras()])\n",
    "\"\"\"\n",
    "# Definición de la función EarlyStopping para considerar durante el entrenamiento\n",
    "early_stop = EarlyStopping(monitor='val_loss', patience=2, verbose=1)\n",
    "\n",
    "# Definición de la función ModelCheckpoint para guardar el modelo con mejor desempeño\n",
    "fBestModel = 'best _model.h5'\n",
    "best_model = ModelCheckpoint(fBestModel, verbose=0, save_best_only=True)\n",
    "\n",
    "# define the grid search parameters\n",
    "optimizer = ['sgd','adam']\n",
    "dropout = [0.2,0.5,0.8]\n",
    "epochs = [30, 50]\n",
    "param_grid = dict(dropout=dropout, optimizer = optimizer, epochs = epochs)\n",
    "grid = GridSearchCV(estimator=model2, param_grid=param_grid, n_jobs=-1, cv=5)\n",
    "\n",
    "# Entrenamiento de la red neuronal con early stopping y dropout\n",
    "model_multi_layer = grid.fit(xTrain_transformed,\n",
    "                       yTrain,\n",
    "                       verbose=1, \n",
    "                       validation_data=(xTest_transformed, yTest),\n",
    "                       callbacks=[best_model, early_stop,PlotLossesKeras()])\n",
    "                       \n",
    "# Evaluacion de desempeño\n",
    "y_pred_multilayer = model_multi_layer.predict(xTest_transformed)\n",
    "mae_multilayer = mean_absolute_error(yTest, y_pred_multilayer)\n",
    "mse_multilayer = mean_squared_error(yTest, y_pred_multilayer)\n",
    "\n",
    "print('El MAE de la Red con 3 Capas, EarlyStop y Dropout es de :',mae_multilayer)\n",
    "print('El MSE de la Red con 3 Capas, EarlyStop y Dropout es de :',mse_multilayer)"
   ]
  },
  {
   "cell_type": "code",
   "execution_count": 14,
   "metadata": {},
   "outputs": [
    {
     "data": {
      "text/plain": [
       "{'dropout': 0.2, 'epochs': 30, 'optimizer': 'adam'}"
      ]
     },
     "execution_count": 14,
     "metadata": {},
     "output_type": "execute_result"
    }
   ],
   "source": [
    "model_multi_layer.best_params_"
   ]
  },
  {
   "cell_type": "markdown",
   "metadata": {},
   "source": [
    "### Procedimiento y Conclusiones\n",
    "\n",
    "Se crea una red neuronal haciendo uso de la librería Keras multicapa. En esta se hace uso de la metodología Dropout, la cual establece que se eliminará un porcentaje de las neuronas que existen en la capa en conjunto con el early stopping indicando que si no hay un cambio significativo en los resultados obtenidos de la funcion de costo por dos epocas consectuvias, se debería detener el entrenamiento. Para efectos de calibración se usaron los mejores parámetros de la red de dos capas que se analizó anteriormente.\n",
    "\n",
    "* **Funcion de pérdida**: se sigue usando el MSE para evaluar el performance en el modelo de regresión.\n",
    "* **Optimizador**: el algoritmo de adam ha dado el mejor resultado para la predicción de probabilidad de ingreso a la universidad, contrario a lo obtenido en las redes construidas anteriormente.\n",
    "* **Numero de épocas**: con 30 epochas el modelo tiene suficiente holgura para encontrar una variación en la función de pérdida que sea aceptable para detener el entrenamiento.\n",
    "* **Numero de neuronas**: se hace uso de 256 neuronas para las capas ocultas de la red, tomando como insumo los resultados obte nidos en el modelo inmediatamente anterior, si bien puede existir una diferencia con las características actuales dado que este modelo de red tiene una capa adicional y existen otros elementos nuevos como el early stopping y el dropout, por cuestiones de disponibilidad de máquina para la calibración de parámetros se decidió no calibrar el valor exacto de neuronas.\n",
    "* **Dropout**: uno de los parametros de calibración era el porcentaje de 'perdida' de neuronas dentro de las capas de la red neuronal. Como resultado se obtiene que con un 20% de estas que se omitan en el proceso de entrenamiento se obtiene el mejor desempeño.\n",
    "* **Early Stop**: como criterio de parada se establece que si hay dos epocas consecutivas sin que exista mejora en el valor de la función de costo, entonces se debe detener el modelo."
   ]
  },
  {
   "cell_type": "markdown",
   "metadata": {},
   "source": [
    "## Punto 4 - Comparación y análisis de resultados\n",
    "\n",
    "En la celda 4 comparen los resultados obtenidos de las diferentes redes y comenten las ventajas del mejor modelo y las desventajas del modelo con el menor desempeño."
   ]
  },
  {
   "cell_type": "code",
   "execution_count": 25,
   "metadata": {},
   "outputs": [
    {
     "data": {
      "text/html": [
       "<div>\n",
       "<style scoped>\n",
       "    .dataframe tbody tr th:only-of-type {\n",
       "        vertical-align: middle;\n",
       "    }\n",
       "\n",
       "    .dataframe tbody tr th {\n",
       "        vertical-align: top;\n",
       "    }\n",
       "\n",
       "    .dataframe thead th {\n",
       "        text-align: right;\n",
       "    }\n",
       "</style>\n",
       "<table border=\"1\" class=\"dataframe\">\n",
       "  <thead>\n",
       "    <tr style=\"text-align: right;\">\n",
       "      <th></th>\n",
       "      <th>MAE</th>\n",
       "      <th>MSE</th>\n",
       "    </tr>\n",
       "  </thead>\n",
       "  <tbody>\n",
       "    <tr>\n",
       "      <th>Red 1 Capa</th>\n",
       "      <td>0.040934</td>\n",
       "      <td>0.003178</td>\n",
       "    </tr>\n",
       "    <tr>\n",
       "      <th>Red 2 Capas</th>\n",
       "      <td>0.049808</td>\n",
       "      <td>0.004293</td>\n",
       "    </tr>\n",
       "    <tr>\n",
       "      <th>Red Multicapa</th>\n",
       "      <td>0.064548</td>\n",
       "      <td>0.006458</td>\n",
       "    </tr>\n",
       "  </tbody>\n",
       "</table>\n",
       "</div>"
      ],
      "text/plain": [
       "                    MAE       MSE\n",
       "Red 1 Capa     0.040934  0.003178\n",
       "Red 2 Capas    0.049808  0.004293\n",
       "Red Multicapa  0.064548  0.006458"
      ]
     },
     "execution_count": 25,
     "metadata": {},
     "output_type": "execute_result"
    },
    {
     "data": {
      "image/png": "[encoded data removed]",
      "text/plain": [
       "<Figure size 720x360 with 1 Axes>"
      ]
     },
     "metadata": {
      "needs_background": "light"
     },
     "output_type": "display_data"
    }
   ],
   "source": [
    "# Celda 4\n",
    "\n",
    "import seaborn as sns\n",
    "\n",
    "results_df = pd.DataFrame({'MAE':[mae_onelayer,mae_twolayer,mae_multilayer],\n",
    "                           'MSE':[mse_onelayer,mse_twolayer,mse_multilayer]},\n",
    "                         index = ['Red 1 Capa','Red 2 Capas','Red Multicapa'])\n",
    "\n",
    "\n",
    "ax = results_df.T.plot.bar(rot=0, figsize=(10,5))\n",
    "plt.legend(bbox_to_anchor=(1.0, 1.0))\n",
    "\n",
    "results_df"
   ]
  },
  {
   "cell_type": "markdown",
   "metadata": {},
   "source": [
    "### Conclusiones, ventajas y desventajas\n",
    "\n",
    "En el gráfico de barras es posible apreciar que el mejor desempeño en la muestra de validación (test) se obtiene para la red neuronal de 1 sola capa, la cual obtiene un MSE de 0.0031 y un MAE de 0.04093. Comparativamente se tiene que los modelos de una sola capa y dos capas se construyeron haciendo uso del algoritomo de 'stochastic gradiente descend' mientras que para el modelo  de multicapa, el mejor resultado se obtuvo calibrando con el algoritmo de 'adam'.\n",
    "\n",
    "* *Desventajas del modelo con menor desempeño*\n",
    "\n",
    "El modelo multicapa es más errático que los modelos anteriormente construidos, así mismo el criterio de parada basado en early stopping si bien puede reducir la carga computacional del entrenamiento puede inducir a quedarse en un óptimo local sin ser necesariamente la mejor solución posible. El principio de dropout debería ayudar a minimizar el sobreajuste sin embargo al 'esconder' ciertas neuronas del entrenamiento se aumenta la aleatoriedad de la función de salida y por lo tanto se obtienen resultados dispersos.\n",
    "\n",
    "* *Ventajas del mdelo con mayor desempeño*\n",
    "\n",
    "El modelo de una sola capa es el más simple de construir, tiene el menor tiempo de entrenamiento, su calibración de párametros es menos compleja que las de las redes que tienen una mayor profundidad en sus capas. Para el caso de estudio dados los resultados obtenidos no amerita emplear modelos más complejos y con técnicas más avanzadas para obtener una predicción más acertada.\n"
   ]
  },
  {
   "cell_type": "code",
   "execution_count": null,
   "metadata": {},
   "outputs": [],
   "source": []
  }
 ],
 "metadata": {
  "kernelspec": {
   "display_name": "Python 3",
   "language": "python",
   "name": "python3"
  },
  "language_info": {
   "codemirror_mode": {
    "name": "ipython",
    "version": 3
   },
   "file_extension": ".py",
   "mimetype": "text/x-python",
   "name": "python",
   "nbconvert_exporter": "python",
   "pygments_lexer": "ipython3",
   "version": "3.8.8"
  }
 },
 "nbformat": 4,
 "nbformat_minor": 2
}
